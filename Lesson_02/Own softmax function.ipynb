{
 "cells": [
  {
   "cell_type": "code",
   "execution_count": 1,
   "metadata": {},
   "outputs": [],
   "source": [
    "import numpy as np\n",
    "import math\n",
    "\n",
    "# Write a function that takes as input a list of numbers, and returns\n",
    "# the list of values given by the softmax function.\n",
    "def softmax(L):\n",
    "    result = 0\n",
    "    prob_list = []\n",
    "    total_prob = 0\n",
    "    expL = np.exp(L)\n",
    "    sumExpL = sum(expL)\n",
    "    for i in expL:\n",
    "        result = i*1.0/sumExpL\n",
    "        prob_list.append(result)\n",
    "        total_prob += result\n",
    "    if total_prob == 1:\n",
    "        return prob_list\n",
    "    else:\n",
    "        return \"your probability is {0}\".format(total_prob)"
   ]
  },
  {
   "cell_type": "code",
   "execution_count": null,
   "metadata": {},
   "outputs": [],
   "source": []
  }
 ],
 "metadata": {
  "kernelspec": {
   "display_name": "Python 3",
   "language": "python",
   "name": "python3"
  },
  "language_info": {
   "codemirror_mode": {
    "name": "ipython",
    "version": 3
   },
   "file_extension": ".py",
   "mimetype": "text/x-python",
   "name": "python",
   "nbconvert_exporter": "python",
   "pygments_lexer": "ipython3",
   "version": "3.7.1"
  }
 },
 "nbformat": 4,
 "nbformat_minor": 2
}
